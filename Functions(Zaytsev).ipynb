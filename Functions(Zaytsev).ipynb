{
 "metadata": {
  "name": ""
 },
 "nbformat": 3,
 "nbformat_minor": 0,
 "worksheets": [
  {
   "cells": [
    {
     "cell_type": "heading",
     "level": 2,
     "metadata": {},
     "source": [
      "\u0417\u0430\u0434\u0430\u043d\u0438\u0435 \u21161"
     ]
    },
    {
     "cell_type": "raw",
     "metadata": {},
     "source": [
      "\u041d\u0430\u043f\u0438\u0441\u0430\u0442\u044c \u0444\u0443\u043d\u043a\u0446\u0438\u044e, \u043a\u043e\u0442\u043e\u0440\u043e\u0439 \u043c\u043e\u0436\u043d\u043e \u043f\u0435\u0440\u0435\u0434\u0430\u0432\u0430\u0442\u044c \u0430\u0440\u0433\u0443\u043c\u0435\u043d\u0442\u044b \u043b\u0438\u0431\u043e \u0441\u043f\u0438\u0441\u043a\u043e\u043c/\u043a\u043e\u0440\u0442\u0435\u0436\u0435\u043c, \u043b\u0438\u0431\u043e \u043f\u043e \u043e\u0434\u043d\u043e\u043c\u0443. \u0424\u0443\u043d\u043a\u0446\u0438\u044f \u043f\u0440\u043e\u0438\u0437\u0432\u043e\u0434\u0438\u0442 \u0441\u0443\u043c\u043c\u0438\u0440\u043e\u0432\u0430\u043d\u0438\u0435 \u0432\u0441\u0435\u0445 \u0430\u0440\u0433\u0443\u043c\u0435\u043d\u0442\u043e\u0432."
     ]
    },
    {
     "cell_type": "code",
     "collapsed": false,
     "input": [
      "def func(*num):\n",
      "    \"\"\"Function returns summ of int and float arguments\n",
      "    \n",
      "    >>> func(1, 4)\n",
      "    5\n",
      "    >>> func(1, [3, 4], (5, 7))\n",
      "    20\n",
      "    >>> func(1.334, [3, 7])\n",
      "    11.334\n",
      "    >>> func(\"a\", \"b\")\n",
      "    TypeError: unsupported operand type(s) for +=: 'int' and 'str'\n",
      "    \"\"\"\n",
      "\tsumm = 0\n",
      "\tfor nums in num:\n",
      "\t\tif hasattr(nums, \"__len__\"):\n",
      "\t\t\tfor i in nums:\n",
      "\t\t\t\tsumm += i\n",
      "\t\telse:\n",
      "\t\t\tsumm += nums\n",
      "\treturn summ\n",
      "\n",
      "func(2, 3)"
     ],
     "language": "python",
     "metadata": {},
     "outputs": [
      {
       "metadata": {},
       "output_type": "pyout",
       "prompt_number": 12,
       "text": [
        "5"
       ]
      }
     ],
     "prompt_number": 12
    },
    {
     "cell_type": "code",
     "collapsed": false,
     "input": [
      "func(2, (2, 3), 4, [5,6])"
     ],
     "language": "python",
     "metadata": {},
     "outputs": [
      {
       "metadata": {},
       "output_type": "pyout",
       "prompt_number": 13,
       "text": [
        "22"
       ]
      }
     ],
     "prompt_number": 13
    },
    {
     "cell_type": "heading",
     "level": 2,
     "metadata": {},
     "source": [
      "\u0417\u0430\u0434\u0430\u043d\u0438\u0435 \u21162"
     ]
    },
    {
     "cell_type": "raw",
     "metadata": {},
     "source": [
      "\u041d\u0430\u043f\u0438\u0441\u0430\u0442\u044c \u0444\u0443\u043d\u043a\u0446\u0438\u044e-\u0444\u0430\u0431\u0440\u0438\u043a\u0443, \u043a\u043e\u0442\u043e\u0440\u0430\u044f \u0431\u0443\u0434\u0435\u0442 \u0432\u043e\u0437\u0432\u0440\u0430\u0449\u0430\u0442\u044c \u0444\u0443\u043d\u043a\u0446\u0438\u044e \u0441\u043b\u043e\u0436\u0435\u043d\u0438\u044f \u0441 \u0430\u0440\u0433\u0443\u043c\u0435\u043d\u0442\u043e\u043c. \n",
      "\u041d\u0430\u043f\u0438\u0441\u0430\u0442\u044c \u0432\u0430\u0440\u0438\u0430\u043d\u0442\u044b \u0441 \u043e\u0431\u044b\u0447\u043d\u043e\u0439 \"\u0432\u043d\u0443\u0442\u0440\u0435\u043d\u043d\u0435\u0439\" \u0438 \u0430\u043d\u043e\u043d\u0438\u043c\u043d\u043e\u0439 lambda-\u0444\u0443\u043d\u043a\u0446\u0438\u0435\u0439."
     ]
    },
    {
     "cell_type": "code",
     "collapsed": false,
     "input": [
      "def summ(x):\n",
      "    \"\"\"Function returns other function that adds argument to constant variable\n",
      "    \n",
      "    >>> add6 = summ(6)\n",
      "    >>> add6(5)\n",
      "    11\n",
      "    >>> summ(6)(3)\n",
      "    9\n",
      "    >>>\n",
      "    >>> add1_23 = summ(1.23)\n",
      "    >>> add1_23(5)\n",
      "    6.23 \n",
      "    >>> add1_23(\"a\")\n",
      "    TypeError: unsupported operand type(s) for +: 'float' and 'str'\n",
      "    \"\"\"\n",
      "    def sec_arg(y):\n",
      "        return x + y\n",
      "    return sec_arg\n",
      "\n",
      "summ5 = summ(5)\n",
      "summ5(3)"
     ],
     "language": "python",
     "metadata": {},
     "outputs": [
      {
       "metadata": {},
       "output_type": "pyout",
       "prompt_number": 5,
       "text": [
        "8"
       ]
      }
     ],
     "prompt_number": 5
    },
    {
     "cell_type": "code",
     "collapsed": false,
     "input": [
      "summ7 = summ(7)\n",
      "summ7(2)"
     ],
     "language": "python",
     "metadata": {},
     "outputs": [
      {
       "metadata": {},
       "output_type": "pyout",
       "prompt_number": 6,
       "text": [
        "9"
       ]
      }
     ],
     "prompt_number": 6
    },
    {
     "cell_type": "code",
     "collapsed": false,
     "input": [
      "def lam_summ(x):\n",
      "    \"\"\"Function returns other function that adds argument to constant variable\n",
      "    \n",
      "    >>> add10 = lam_summ(10)\n",
      "    >>> add10(5)\n",
      "    15\n",
      "    >>> add5_25 = lam_summ(5.25)\n",
      "    >>> add5_25(5.25)\n",
      "    10.5\n",
      "    >>> add5_25(\"word\")\n",
      "    TypeError: cannot concatenate 'str' and 'float' objects\n",
      "    \"\"\"\n",
      "    return lambda y: y + x\n",
      "\n",
      "summ4 = lam_summ(4)\n",
      "summ4(3)"
     ],
     "language": "python",
     "metadata": {},
     "outputs": [
      {
       "metadata": {},
       "output_type": "pyout",
       "prompt_number": 9,
       "text": [
        "7"
       ]
      }
     ],
     "prompt_number": 9
    },
    {
     "cell_type": "heading",
     "level": 2,
     "metadata": {},
     "source": [
      "\u0417\u0430\u0434\u0430\u043d\u0438\u0435 \u21163"
     ]
    },
    {
     "cell_type": "raw",
     "metadata": {},
     "source": [
      "\u041d\u0430\u043f\u0438\u0441\u0430\u0442\u044c \u0444\u0430\u0431\u0440\u0438\u043a\u0443, \u0430\u043d\u0430\u043b\u043e\u0433\u0438\u0447\u043d\u0443\u044e \u043f.2, \u043d\u043e \u0432\u043e\u0437\u0432\u0440\u0430\u0449\u0430\u044e\u0449\u0435\u0439 \u0441\u043f\u0438\u0441\u043e\u043a \u0442\u0430\u043a\u0438\u0445 \u0444\u0443\u043d\u043a\u0446\u0438\u0439"
     ]
    },
    {
     "cell_type": "code",
     "collapsed": false,
     "input": [
      ">>> additionals = addition_range(0, 5) # \u0441\u043f\u0438\u0441\u043e\u043a \u0438\u0437 \u0444\u0443\u043d\u043a\u0446\u0438\u0439 \u0441\u043b\u043e\u0436\u0435\u043d\u0438\u044f \u043e\u0442 0 \u0434\u043e 5 \u0432\u043a\u043b\u044e\u0447\u0438\u0442\u0435\u043b\u044c\u043d\u043e"
     ],
     "language": "python",
     "metadata": {},
     "outputs": []
    },
    {
     "cell_type": "raw",
     "metadata": {},
     "source": [
      "------------------------------------------------------------------------------------------------------------------------------"
     ]
    },
    {
     "cell_type": "code",
     "collapsed": false,
     "input": [
      "def fab_func(x, y):\n",
      "    \"\"\"Function returns list with functions that adding constant variable\n",
      "    \n",
      "    >>> r = fab_func(1, 5)\n",
      "    >>> r\n",
      "    [<function add1 at 0x7fc0947fa8c0>, <function add2 at 0x7fc0947fa848>, <function add3 at 0x7fc0947fa938>,\n",
      "    <function add4 at 0x7fc0947fa9b0>, <function add5 at 0x7fc0947faa28>]\n",
      "    >>> r[0](1)\n",
      "    2\n",
      "    >>> r[0](\"word\")\n",
      "    TypeError: cannot concatenate 'str' and 'int' objects\n",
      "    >>>\n",
      "    >>> r2 = fab_func(1, 4.5)\n",
      "    TypeError: range() integer end argument expected, got float.\n",
      "    \"\"\"\n",
      "    full_list = []\n",
      "    for i in range(x, y + 1):\n",
      "        full_list.append(summ(i))\n",
      "    for i in range(0, len(full_list)):\n",
      "        full_list[i].__name__ = \"add\" + str(x + i)   #\u043f\u0435\u0440\u0435\u0438\u043c\u0435\u043d\u043e\u0432\u044b\u0432\u0430\u044e \u0444\u0443\u043d\u043a\u0446\u0438\u0438 \u0434\u043b\u044f \u0443\u0434\u043e\u0431\u0441\u0442\u0432\u0430 \u0432\u043e\u0441\u043f\u0440\u0438\u044f\u0442\u0438\u044f\n",
      "    return full_list\n",
      "\n",
      "result = fab_func(3, 7)\n",
      "result"
     ],
     "language": "python",
     "metadata": {},
     "outputs": [
      {
       "metadata": {},
       "output_type": "pyout",
       "prompt_number": 13,
       "text": [
        "[<function __main__.add3>,\n",
        " <function __main__.add4>,\n",
        " <function __main__.add5>,\n",
        " <function __main__.add6>,\n",
        " <function __main__.add7>]"
       ]
      }
     ],
     "prompt_number": 13
    },
    {
     "cell_type": "raw",
     "metadata": {},
     "source": [
      "\u0422\u0430\u043a \u0441\u0438\u043c\u043f\u0430\u0442\u0438\u0447\u043d\u0435\u0435:"
     ]
    },
    {
     "cell_type": "code",
     "collapsed": false,
     "input": [
      "print map(lambda x: x.__name__, result)"
     ],
     "language": "python",
     "metadata": {},
     "outputs": [
      {
       "output_type": "stream",
       "stream": "stdout",
       "text": [
        "['add3', 'add4', 'add5', 'add6', 'add7']\n"
       ]
      }
     ],
     "prompt_number": 6
    },
    {
     "cell_type": "raw",
     "metadata": {},
     "source": [
      "\u0410\u0440\u0433\u0443\u043c\u0435\u043d\u0442 \u0444\u0430\u0431\u0440\u0438\u0447\u043d\u044b\u043c \u0444\u0443\u043d\u043a\u0446\u0438\u044f\u043c \u043f\u0435\u0440\u0435\u0434\u0430\u0435\u043c, \u0438\u0441\u043f\u043e\u043b\u044c\u0437\u0443\u044f \u043e\u0431\u0440\u0430\u0449\u0435\u043d\u0438\u0435 \u043a \u044d\u043b\u0435\u043c\u0435\u043d\u0442\u0443 \u0441\u043f\u0438\u0441\u043a\u0430 \u0447\u0435\u0440\u0435\u0437 \u0438\u043d\u0434\u0435\u043a\u0441"
     ]
    },
    {
     "cell_type": "code",
     "collapsed": false,
     "input": [
      "result[0](3)        #\u043f\u0435\u0440\u0432\u043e\u0439 \u0432 \u0441\u043f\u0438\u0441\u043a\u0435 \u0438\u0434\u0435\u0442 \u0444\u0443\u043d\u043a\u0446\u0438\u044f add3, \u043a\u043e\u0442\u043e\u0440\u043e\u0439 \u043c\u044b \u043f\u0435\u0440\u0435\u0434\u0430\u0435\u043c \u0430\u0440\u0433\u0443\u043c\u0435\u043d\u0442 3 \u0438, \u0441\u043e\u043e\u0442\u0432\u0435\u0442\u0441\u0442\u0432\u0435\u043d\u043d\u043e, \u043f\u043e\u043b\u0443\u0447\u0430\u0435\u043c 6"
     ],
     "language": "python",
     "metadata": {},
     "outputs": [
      {
       "metadata": {},
       "output_type": "pyout",
       "prompt_number": 5,
       "text": [
        "6"
       ]
      }
     ],
     "prompt_number": 5
    },
    {
     "cell_type": "heading",
     "level": 2,
     "metadata": {},
     "source": [
      "\u0417\u0430\u0434\u0430\u043d\u0438\u0435 \u21164"
     ]
    },
    {
     "cell_type": "raw",
     "metadata": {},
     "source": [
      "\u041d\u0430\u043f\u0438\u0441\u0430\u0442\u044c \u0430\u043d\u0430\u043b\u043e\u0433 map:\n",
      "\n",
      "    - \u043f\u0435\u0440\u0432\u044b\u043c \u0430\u0440\u0433\u0443\u043c\u0435\u043d\u0442\u043e\u043c \u0438\u0434\u0435\u0442 \u043b\u0438\u0431\u043e \u0444\u0443\u043d\u043a\u0446\u0438\u044f, \u043b\u0438\u0431\u043e \u0441\u043f\u0438\u0441\u043e\u043a \u0444\u0443\u043d\u043a\u0446\u0438\u0439\n",
      "    - \u0432\u0442\u043e\u0440\u044b\u043c \u0430\u0440\u0433\u0443\u043c\u0435\u043d\u0442\u043e\u043c \u2014 \u0441\u043f\u0438\u0441\u043e\u043a \u0430\u0440\u0433\u0443\u043c\u0435\u043d\u0442\u043e\u0432, \u043a\u043e\u0442\u043e\u0440\u044b\u0435 \u0431\u0443\u0434\u0443\u0442 \u043f\u0435\u0440\u0435\u0434\u0430\u043d\u044b \u0444\u0443\u043d\u043a\u0446\u0438\u044f\u043c\n",
      "    - \u043f\u043e\u043b\u0430\u0433\u0430\u0435\u0442\u0441\u044f, \u0447\u0442\u043e \u044d\u0442\u0438 \u0444\u0443\u043d\u043a\u0446\u0438\u0438 \u2014 \u0444\u0443\u043d\u043a\u0446\u0438\u0438 \u043e\u0434\u043d\u043e\u0433\u043e \u0430\u0440\u0433\u0443\u043c\u0435\u043d\u0442\u0430\n"
     ]
    },
    {
     "cell_type": "code",
     "collapsed": false,
     "input": [
      ">>> mymap([add0, add1, add2], [1, 2, 3])\n",
      "[(1, 2, 3), (2, 3, 4), (3, 4, 5)]"
     ],
     "language": "python",
     "metadata": {},
     "outputs": []
    },
    {
     "cell_type": "raw",
     "metadata": {},
     "source": [
      "\u0432 \u0434\u0430\u043d\u043d\u043e\u043c \u0441\u043b\u0443\u0447\u0430\u0435 \"\u0440\u0430\u0437\u0432\u0435\u0440\u043d\u0443\u0442\u0430\u044f\" \u0437\u0430\u043f\u0438\u0441\u044c \u0431\u0443\u0434\u0435\u0442: [(add0(1), add0(2), add0(3)), (add1(1), add1(2), add1(3)), (add2(1), add2(2), add2(3))]"
     ]
    },
    {
     "cell_type": "raw",
     "metadata": {},
     "source": [
      "-------------------------------------------------------------------------------------------------------------------------------"
     ]
    },
    {
     "cell_type": "code",
     "collapsed": false,
     "input": [
      "def summ(n):                   #\u0432\u0441\u043f\u043e\u043c\u043e\u0433\u0430\u0442\u0435\u043b\u044c\u043d\u0430\u044f \u0444\u0443\u043d\u043a\u0446\u0438\u044f-\u0444\u0430\u0431\u0440\u0438\u043a\u0430\n",
      "    return lambda m: m + n\n",
      "\n",
      "add2 = summ(2)\n",
      "add3 = summ(3)\n",
      "add4 = summ(4)\n",
      "\n",
      "list1 = [add2, add3, add4]     #\u043f\u0440\u0435\u0434\u0432\u0430\u0440\u0438\u0442\u0435\u043b\u044c\u043d\u043e \u0441\u043e\u0437\u0434\u0430\u043b\u0438 \u0441\u043f\u0438\u0441\u043e\u043a \u0444\u0443\u043d\u043a\u0446\u0438\u0439\n",
      "list2 = [1, 2, 3]              #\u0438 \u0441\u043f\u0438\u0441\u043e\u043a \u0430\u0440\u0433\u0443\u043c\u0435\u043d\u0442\u043e\u0432\n",
      "\n",
      "def new(x, y):\n",
      "    \"\"\"Function that works as function \"map\"\n",
      "    \n",
      "    >>> list1 = [add2, add3, add3]\n",
      "    >>> list2 = [1, 2, 3]\n",
      "    >>> \n",
      "    >>> new(list1, list2)\n",
      "    [(3, 4, 5), (4, 5, 6), (4, 5, 6)]\n",
      "    >>> new(list2, list1)\n",
      "    TypeError: 'int' object is not callable\n",
      "    \"\"\"\n",
      "\tfull_list = []\n",
      "\tif hasattr(x, \"__len__\"):\n",
      "\t\t\treturn [tuple([i(j) for j in y]) for i in x]\n",
      "\telse:\n",
      "\t\tfull_list.append(x(y))\n",
      "\treturn full_list\n",
      "\n",
      "new(list1, list2)"
     ],
     "language": "python",
     "metadata": {},
     "outputs": [
      {
       "metadata": {},
       "output_type": "pyout",
       "prompt_number": 15,
       "text": [
        "[(3, 4, 5), (4, 5, 6), (5, 6, 7)]"
       ]
      }
     ],
     "prompt_number": 15
    },
    {
     "cell_type": "heading",
     "level": 2,
     "metadata": {},
     "source": [
      "\u0417\u0430\u0434\u0430\u043d\u0438\u0435 \u21165"
     ]
    },
    {
     "cell_type": "raw",
     "metadata": {},
     "source": [
      "\u041d\u0430\u043f\u0438\u0441\u0430\u0442\u044c \u0434\u043e\u043a\u0442\u0435\u0441\u0442\u044b \u0434\u043b\u044f \u0432\u0441\u0435\u0445 \u0444\u0443\u043d\u043a\u0446\u0438\u0439."
     ]
    }
   ],
   "metadata": {}
  }
 ]
}