{
 "metadata": {
  "name": ""
 },
 "nbformat": 3,
 "nbformat_minor": 0,
 "worksheets": [
  {
   "cells": [
    {
     "cell_type": "heading",
     "level": 4,
     "metadata": {},
     "source": [
      "\u0417\u0430\u0439\u0446\u0435\u0432 \u0410\u0440\u0442\u0435\u043c (\u0441\u0442\u0430\u0436\u0435\u0440)"
     ]
    },
    {
     "cell_type": "heading",
     "level": 2,
     "metadata": {},
     "source": [
      "\u0412\u043e\u043f\u0440\u043e\u0441\u044b"
     ]
    },
    {
     "cell_type": "raw",
     "metadata": {},
     "source": [
      "    1. \u0414\u043b\u044f \u0447\u0435\u0433\u043e \u0438\u0441\u043f\u043e\u043b\u044c\u0437\u0443\u044e\u0442\u0441\u044f, \u043a\u0430\u043a\u0438\u0435 \u0430\u0440\u0433\u0443\u043c\u0435\u043d\u0442\u044b \u043f\u043e\u043b\u0443\u0447\u0430\u044e\u0442, \u0447\u0442\u043e \u0434\u043e\u043b\u0436\u043d\u044b \u0432\u043e\u0437\u0432\u0440\u0430\u0449\u0430\u0442\u044c: \u043c\u0435\u0442\u043e\u0434\u044b __new__ \u0438 __init__ \u043a\u043b\u0430\u0441\u0441\u043e\u0432\n",
      "\n",
      "    \u041c\u0435\u0442\u043e\u0434 __new__ \u0441\u043b\u0443\u0436\u0438\u0442 \u0434\u043b\u044f \u0441\u043e\u0437\u0434\u0430\u043d\u0438\u044f \u044d\u043a\u0437\u0435\u043c\u043f\u043b\u044f\u0440\u0430 \u043a\u043b\u0430\u0441\u0441\u0430 - \u0434\u043b\u044f \u044d\u0442\u043e\u0433\u043e \u0434\u0430\u043d\u043d\u044b\u0439 \u043a\u043b\u0430\u0441\u0441 \u0434\u043e\u043b\u0436\u0435\u043d \u0431\u044b\u0442\u044c \u043f\u0435\u0440\u0435\u0434\u0430\u043d \u043c\u0435\u0442\u043e\u0434\u0443 \u0432 \u043a\u0430\u0447\u0435\u0441\u0442\u0432\u0435 \u043f\u0435\u0440\u0432\u043e\u0433\u043e \u0430\u0440\u0433\u0443\u043c\u0435\u043d\u0442\u0430 (\u0437\u0430\u0442\u0435\u043c \u043c\u043e\u0433\u0443\u0442 \u0438\u0434\u0442\u0438 \u043b\u044e\u0431\u044b\u0435 \u043f\u043e\u0437\u0438\u0446\u0438\u043e\u043d\u043d\u044b\u0435 \u0438 \u043a\u043b\u044e\u0447\u0435\u0432\u044b\u0435 \u0430\u0440\u0433\u0443\u043c\u0435\u043d\u0442\u044b, \u043e\u043d\u0438 \u0431\u0443\u0434\u0443\u0442 \u043f\u0435\u0440\u0435\u0434\u0430\u043d\u044b \u0432 __init__).  \u041c\u0435\u0442\u043e\u0434 __new__ \u0432\u043e\u0437\u0432\u0440\u0430\u0449\u0430\u0435\u0442 \u043d\u043e\u0432\u044b\u0439 \u044d\u043a\u0437\u0435\u043c\u043f\u043b\u044f\u0440 \u044d\u0442\u043e\u0433\u043e \u043a\u043b\u0430\u0441\u0441\u0430, \u043f\u043e\u0441\u043b\u0435 \u0447\u0435\u0433\u043e \u0432\u044b\u0437\u044b\u0432\u0430\u0435\u0442\u0441\u044f \u043c\u0435\u0442\u043e\u0434 __init__, \u043a\u043e\u0442\u043e\u0440\u044b\u0439 \u0432 \u0441\u0432\u043e\u044e \u043e\u0447\u0435\u0440\u0435\u0434\u044c \u0443\u0436\u0435 \u043d\u0438\u0447\u0435\u0433\u043e \u043d\u0435 \u0432\u043e\u0437\u0432\u0440\u0430\u0449\u0430\u0435\u0442 (\u0442\u043e\u0447\u043d\u0435\u0435 \u0432\u043e\u0437\u0432\u0440\u0430\u0449\u0430\u0435\u0442 None) - \u0435\u0433\u043e \u0437\u0430\u0434\u0430\u0447\u0435\u0439 \u044f\u0432\u043b\u044f\u0435\u0442\u0441\u044f \u0438\u043d\u0438\u0446\u0438\u0430\u043b\u0438\u0437\u0430\u0446\u0438\u044f \u044d\u043a\u0437\u0435\u043c\u043f\u043b\u044f\u0440\u0430. \u042d\u043a\u0437\u0435\u043c\u043f\u043b\u044f\u0440 \u043f\u0435\u0440\u0435\u0434\u0430\u0435\u0442\u0441\u044f \u043c\u0435\u0442\u043e\u0434\u0443 __init__ \u0432 \u043a\u0430\u0447\u0435\u0441\u0442\u0432\u0435 \u043f\u0435\u0440\u0432\u043e\u0433\u043e \u0430\u0440\u0433\u0443\u043c\u0435\u043d\u0442\u0430 (\u0435\u0433\u043e \u043e\u0431\u0449\u0435\u043f\u0440\u0438\u043d\u044f\u0442\u043e\u0435 \u0438\u043c\u0435\u043d\u043e\u0432\u0430\u043d\u0438\u0435 - self, \u0445\u043e\u0442\u044f \u044d\u0442\u043e \u043d\u0435 \u043e\u0431\u044f\u0437\u0430\u0442\u0435\u043b\u044c\u043d\u043e). \u041e\u0441\u0442\u0430\u043b\u044c\u043d\u044b\u0435 \u043d\u0435\u043e\u0431\u044f\u0437\u0430\u0442\u0435\u043b\u044c\u043d\u044b\u0435 \u0430\u0440\u0433\u0443\u043c\u0435\u043d\u0442\u044b \u0438\u0441\u043f\u043e\u043b\u044c\u0437\u0443\u044e\u0442\u0441\u044f \u0434\u043b\u044f \u043f\u0440\u0438\u0441\u0432\u0430\u0438\u0432\u0430\u043d\u0438\u044f \u0437\u043d\u0430\u0447\u0435\u043d\u0438\u0439 \u0430\u0442\u0440\u0438\u0431\u0443\u0442\u0430\u043c \u044d\u043a\u0437\u0435\u043c\u043f\u043b\u044f\u0440\u0430 \u043a\u043b\u0430\u0441\u0441\u0430."
     ]
    },
    {
     "cell_type": "raw",
     "metadata": {},
     "source": [
      "    2. \u041a\u0430\u043a\u0438\u0435 \u0430\u0440\u0433\u0443\u043c\u0435\u043d\u0442\u044b \u043f\u043e\u043b\u0443\u0447\u0430\u0435\u0442 __new__ \u0438 __init__ \u0443 \u043c\u0435\u0442\u0430\u043a\u043b\u0430\u0441\u0441\u0430?\n",
      "\n",
      "__new__(meta, classname, superclasses, attributedict)\n",
      "__init__(\u0441lass, classname, superclasses, attributedict)"
     ]
    },
    {
     "cell_type": "heading",
     "level": 2,
     "metadata": {},
     "source": [
      "\u0417\u0430\u0434\u0430\u043d\u0438\u0435 \u21161"
     ]
    },
    {
     "cell_type": "raw",
     "metadata": {},
     "source": [
      "\u0420\u0435\u0430\u043b\u0438\u0437\u043e\u0432\u0430\u0442\u044c \u0434\u0435\u0441\u043a\u0440\u0438\u043f\u0442\u043e\u0440\u044b, \u043a\u043e\u0442\u043e\u0440\u044b\u0435 \u0431\u044b \u0444\u0438\u043a\u0441\u0438\u0440\u043e\u0432\u0430\u043b\u0438 \u0442\u0438\u043f \u0430\u0442\u0440\u0438\u0431\u0443\u0442\u0430"
     ]
    },
    {
     "cell_type": "code",
     "collapsed": false,
     "input": [
      "class Property(object):\n",
      "\tdef __init__(self, value):\n",
      "\t\tself._value = value\n",
      "\tdef __get__(self, obj, objtype):\n",
      "\t\tprint \"Fetch...\" + str(self._value)\n",
      "\tdef __set__(self, obj, value):\n",
      "\t\tif type(value) == type(self._value):\n",
      "\t\t\tprint \"Refresh...\"\n",
      "\t\t\tself._value = value\n",
      "\t\telse:\n",
      "\t\t\traise TypeError\n",
      "            \n",
      "class Image(object):\n",
      "\theight = Property(0)\n",
      "\twidth = Property(0)\n",
      "\tpath = Property('/tmp/')\n",
      "\tsize = Property(0)\n",
      "    \n",
      "img = Image()\n",
      "img.height\n",
      "img.height = 340\n",
      "img.height\n",
      "img.height = 'test'"
     ],
     "language": "python",
     "metadata": {},
     "outputs": [
      {
       "ename": "TypeError",
       "evalue": "",
       "output_type": "pyerr",
       "traceback": [
        "\u001b[0;31m---------------------------------------------------------------------------\u001b[0m\n\u001b[0;31mTypeError\u001b[0m                                 Traceback (most recent call last)",
        "\u001b[0;32m<ipython-input-3-5109456be1ae>\u001b[0m in \u001b[0;36m<module>\u001b[0;34m()\u001b[0m\n\u001b[1;32m     21\u001b[0m \u001b[0mimg\u001b[0m\u001b[0;34m.\u001b[0m\u001b[0mheight\u001b[0m \u001b[0;34m=\u001b[0m \u001b[0;36m340\u001b[0m\u001b[0;34m\u001b[0m\u001b[0m\n\u001b[1;32m     22\u001b[0m \u001b[0mimg\u001b[0m\u001b[0;34m.\u001b[0m\u001b[0mheight\u001b[0m\u001b[0;34m\u001b[0m\u001b[0m\n\u001b[0;32m---> 23\u001b[0;31m \u001b[0mimg\u001b[0m\u001b[0;34m.\u001b[0m\u001b[0mheight\u001b[0m \u001b[0;34m=\u001b[0m \u001b[0;34m'test'\u001b[0m\u001b[0;34m\u001b[0m\u001b[0m\n\u001b[0m",
        "\u001b[0;32m<ipython-input-3-5109456be1ae>\u001b[0m in \u001b[0;36m__set__\u001b[0;34m(self, obj, value)\u001b[0m\n\u001b[1;32m      9\u001b[0m                         \u001b[0mself\u001b[0m\u001b[0;34m.\u001b[0m\u001b[0m_value\u001b[0m \u001b[0;34m=\u001b[0m \u001b[0mvalue\u001b[0m\u001b[0;34m\u001b[0m\u001b[0m\n\u001b[1;32m     10\u001b[0m                 \u001b[0;32melse\u001b[0m\u001b[0;34m:\u001b[0m\u001b[0;34m\u001b[0m\u001b[0m\n\u001b[0;32m---> 11\u001b[0;31m                         \u001b[0;32mraise\u001b[0m \u001b[0mTypeError\u001b[0m\u001b[0;34m\u001b[0m\u001b[0m\n\u001b[0m\u001b[1;32m     12\u001b[0m \u001b[0;34m\u001b[0m\u001b[0m\n\u001b[1;32m     13\u001b[0m \u001b[0;32mclass\u001b[0m \u001b[0mImage\u001b[0m\u001b[0;34m(\u001b[0m\u001b[0mobject\u001b[0m\u001b[0;34m)\u001b[0m\u001b[0;34m:\u001b[0m\u001b[0;34m\u001b[0m\u001b[0m\n",
        "\u001b[0;31mTypeError\u001b[0m: "
       ]
      },
      {
       "output_type": "stream",
       "stream": "stdout",
       "text": [
        "Fetch...0\n",
        "Refresh...\n",
        "Fetch...340\n"
       ]
      }
     ],
     "prompt_number": 3
    },
    {
     "cell_type": "heading",
     "level": 2,
     "metadata": {},
     "source": [
      "\u0417\u0430\u0434\u0430\u043d\u0438\u0435 \u21162"
     ]
    },
    {
     "cell_type": "raw",
     "metadata": {},
     "source": [
      "\u0420\u0435\u0430\u043b\u0438\u0437\u043e\u0432\u0430\u0442\u044c \u0431\u0430\u0437\u043e\u0432\u044b\u0439 \u043a\u043b\u0430\u0441\u0441 (\u0438\u0441\u043f\u043e\u043b\u044c\u0437\u0443\u044f \u043c\u0435\u0442\u0430\u043a\u043b\u0430\u0441\u0441), \u043a\u043e\u0442\u043e\u0440\u044b\u0439 \u0431\u044b \u0444\u0438\u043a\u0441\u0438\u0440\u043e\u0432\u0430\u043b \u0442\u0438\u043f \u0430\u0442\u0440\u0438\u0431\u0443\u0442\u0430"
     ]
    },
    {
     "cell_type": "code",
     "collapsed": false,
     "input": [
      "class Property(object):\n",
      "\tdef __init__(self, value):\n",
      "\t\tself._value = value\n",
      "\tdef __get__(self, obj, objtype):\n",
      "\t\tprint \"Fetch...\" + str(self._value)\n",
      "\tdef __set__(self, obj, value):\n",
      "\t\tif type(value) == type(self._value):\n",
      "\t\t\tprint \"Refresh...\"\n",
      "\t\t\tself._value = value\n",
      "\t\telse:\n",
      "\t\t\traise TypeError\n",
      "            \n",
      "class FixAttr(type):\n",
      "\tdef __new__(meta, classname, superclasses, classdict):\n",
      "\t\tfor key in classdict.keys():\n",
      "\t\t\tif not hasattr(classdict[key], '__call__'):\n",
      "\t\t\t\tclassdict[key] = Property(classdict[key])\n",
      "\t\treturn type.__new__(meta, classname, superclasses, classdict)\n",
      "    \n",
      "class Object(object):\n",
      "\t__metaclass__ = FixAttr\n",
      "\n",
      "class Image(Object):\n",
      "\theight = 0\n",
      "\twidth = 0\n",
      "\tpath = '/tmp'\n",
      "\tsize = 0\n",
      "    \n",
      "img = Image()\n",
      "img.width\n",
      "img.width = 340\n",
      "img.width\n",
      "img.width = 'test'"
     ],
     "language": "python",
     "metadata": {},
     "outputs": [
      {
       "ename": "TypeError",
       "evalue": "",
       "output_type": "pyerr",
       "traceback": [
        "\u001b[0;31m---------------------------------------------------------------------------\u001b[0m\n\u001b[0;31mTypeError\u001b[0m                                 Traceback (most recent call last)",
        "\u001b[0;32m<ipython-input-7-20b8c59c981c>\u001b[0m in \u001b[0;36m<module>\u001b[0;34m()\u001b[0m\n\u001b[1;32m     31\u001b[0m \u001b[0mimg\u001b[0m\u001b[0;34m.\u001b[0m\u001b[0mwidth\u001b[0m \u001b[0;34m=\u001b[0m \u001b[0;36m340\u001b[0m\u001b[0;34m\u001b[0m\u001b[0m\n\u001b[1;32m     32\u001b[0m \u001b[0mimg\u001b[0m\u001b[0;34m.\u001b[0m\u001b[0mwidth\u001b[0m\u001b[0;34m\u001b[0m\u001b[0m\n\u001b[0;32m---> 33\u001b[0;31m \u001b[0mimg\u001b[0m\u001b[0;34m.\u001b[0m\u001b[0mwidth\u001b[0m \u001b[0;34m=\u001b[0m \u001b[0;34m'test'\u001b[0m\u001b[0;34m\u001b[0m\u001b[0m\n\u001b[0m",
        "\u001b[0;32m<ipython-input-7-20b8c59c981c>\u001b[0m in \u001b[0;36m__set__\u001b[0;34m(self, obj, value)\u001b[0m\n\u001b[1;32m      9\u001b[0m                         \u001b[0mself\u001b[0m\u001b[0;34m.\u001b[0m\u001b[0m_value\u001b[0m \u001b[0;34m=\u001b[0m \u001b[0mvalue\u001b[0m\u001b[0;34m\u001b[0m\u001b[0m\n\u001b[1;32m     10\u001b[0m                 \u001b[0;32melse\u001b[0m\u001b[0;34m:\u001b[0m\u001b[0;34m\u001b[0m\u001b[0m\n\u001b[0;32m---> 11\u001b[0;31m                         \u001b[0;32mraise\u001b[0m \u001b[0mTypeError\u001b[0m\u001b[0;34m\u001b[0m\u001b[0m\n\u001b[0m\u001b[1;32m     12\u001b[0m \u001b[0;34m\u001b[0m\u001b[0m\n\u001b[1;32m     13\u001b[0m \u001b[0;32mclass\u001b[0m \u001b[0mFixAttr\u001b[0m\u001b[0;34m(\u001b[0m\u001b[0mtype\u001b[0m\u001b[0;34m)\u001b[0m\u001b[0;34m:\u001b[0m\u001b[0;34m\u001b[0m\u001b[0m\n",
        "\u001b[0;31mTypeError\u001b[0m: "
       ]
      },
      {
       "output_type": "stream",
       "stream": "stdout",
       "text": [
        "Fetch...0\n",
        "Refresh...\n",
        "Fetch...340\n"
       ]
      }
     ],
     "prompt_number": 7
    },
    {
     "cell_type": "heading",
     "level": 2,
     "metadata": {},
     "source": [
      "\u0417\u0430\u0434\u0430\u043d\u0438\u0435 \u21163"
     ]
    },
    {
     "cell_type": "raw",
     "metadata": {},
     "source": [
      "\u0420\u0435\u0430\u043b\u0438\u0437\u043e\u0432\u0430\u0442\u044c \u0431\u0430\u0437\u043e\u0432\u044b\u0439 \u043a\u043b\u0430\u0441\u0441 (\u0438\u0441\u043f\u043e\u043b\u044c\u0437\u0443\u044f \u043c\u0435\u0442\u0430\u043a\u043b\u0430\u0441\u0441) \u0438 \u0434\u0435\u0441\u043a\u0440\u0438\u043f\u0442\u043e\u0440\u044b, \u043a\u043e\u0442\u043e\u0440\u044b\u0435 \u0431\u044b \u043d\u0430 \u043e\u0441\u043d\u043e\u0432\u0435 \u043a\u043b\u0430\u0441\u0441\u0430 \u0441\u043e\u0437\u0434\u0430\u0432\u0430\u043b\u0438 SQL-\u0441\u0445\u0435\u043c\u0443 (ANSI SQL) \u0434\u043b\u044f \u043c\u043e\u0434\u0435\u043b\u0438:\n",
      ">>> class Image(Table):\n",
      "...     height = Integer()\n",
      "...     width = Integer()\n",
      "...     path = Str(128)"
     ]
    },
    {
     "cell_type": "code",
     "collapsed": false,
     "input": [
      "class Property(object):\n",
      "\tdef __init__(self, value):\n",
      "\t\tself._value = value\n",
      "\tdef __get__(self, obj, objtype):\n",
      "\t\tprint str(self._value)\n",
      "\tdef __set__(self, obj, value):\n",
      "\t\tif type(value) == type(self._value):\n",
      "\t\t\tself._value = value\n",
      "\t\telse:\n",
      "\t\t\traise TypeError\n",
      "            \n",
      "\n",
      "class Integer(Property):\n",
      "\tdef __init__(self):\n",
      "\t\tsuper(Integer, self).__init__(int)\n",
      "\tdef __str__(self):\n",
      "\t\treturn 'INTEGER'\n",
      "    \n",
      "class Str(Property):\n",
      "\tdef __init__(self, size):\n",
      "\t\tself.size = size\n",
      "\t\tsuper(Str, self).__init__(str)\n",
      "\tdef __str__(self):\n",
      "\t\treturn 'VARCHAR(%i)' % self.size\n",
      "    \n",
      "class MetaSQL(type):\n",
      "\tdef __new__(meta, classname, superclasses, classdict):\n",
      "\t\tdict_items = {}\n",
      "\t\tfor (attr, value) in classdict.items():\n",
      "\t\t\tif isinstance(value, Property):\n",
      "\t\t\t\tdict_items[attr] = value\n",
      "\t\ttable = ''\n",
      "\t\tfor (item, value) in dict_items.items():\n",
      "\t\t\ttable += '\\n\\t' + str(item) + ' = ' + str(value)\n",
      "\t\tclassdict['_sql_'] = 'CREATE TABLE ' + classname + '(' + table + '\\n)'\n",
      "\t\treturn type.__new__(meta, classname, superclasses, classdict)\n",
      "    \n",
      "class Table(object):\n",
      "\t__metaclass__ = MetaSQL\n",
      "\tdef sql(inst):\n",
      "\t\treturn inst.__class__.__dict__['_sql_']\n",
      "    \n",
      "class Image(Table):\n",
      "\theight = Integer()\n",
      "\twidth = Integer()\n",
      "\tpath = Str(128)\n",
      "    \n",
      "test = Image()\n",
      "print test.sql()"
     ],
     "language": "python",
     "metadata": {},
     "outputs": [
      {
       "output_type": "stream",
       "stream": "stdout",
       "text": [
        "CREATE TABLE Image(\n",
        "\twidth = INTEGER\n",
        "\theight = INTEGER\n",
        "\tpath = VARCHAR(128)\n",
        ")\n"
       ]
      }
     ],
     "prompt_number": 10
    }
   ],
   "metadata": {}
  }
 ]
}