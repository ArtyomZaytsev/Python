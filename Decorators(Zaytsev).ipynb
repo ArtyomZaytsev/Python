{
 "metadata": {
  "name": ""
 },
 "nbformat": 3,
 "nbformat_minor": 0,
 "worksheets": [
  {
   "cells": [
    {
     "cell_type": "heading",
     "level": 2,
     "metadata": {},
     "source": [
      "\u0417\u0430\u0434\u0430\u043d\u0438\u0435 \u21161"
     ]
    },
    {
     "cell_type": "raw",
     "metadata": {},
     "source": [
      "\u041d\u0430\u043f\u0438\u0441\u0430\u0442\u044c \u0434\u0435\u043a\u043e\u0440\u0430\u0442\u043e\u0440 \u0434\u043e\u0431\u0430\u0432\u043b\u044f\u044e\u0449\u0438\u0439 \u043a \u0434\u043e\u043a\u0441\u0442\u0440\u0438\u043d\u0433\u0430\u043c \u0444\u0443\u043d\u043a\u0446\u0438\u0438 \u0444\u0440\u0430\u0437\u0443 \"I'm was here!:)\""
     ]
    },
    {
     "cell_type": "code",
     "collapsed": false,
     "input": [
      "def turist(test_fnc):\n",
      "\t    if hasattr(test_fnc.__doc__, \"__len__\"):\n",
      "\t        test_fnc.__doc__ += \"\\n I was here! :)\"\n",
      "\t    else:\n",
      "\t\t    test_fnc.__doc__ = \"\\n I was here! :)\"\n",
      "\t    return test_fnc\n",
      "    \n",
      "@turist\n",
      "def add2(x):                  #\u0424\u0443\u043d\u043a\u0446\u0438\u044f \u0441 \u043f\u0443\u0441\u0442\u044b\u043c \u0434\u043e\u043a\u0441\u0442\u0440\u0438\u043d\u0433\u043e\u043c\n",
      "    return x + 2\n",
      "\n",
      "help(add2)"
     ],
     "language": "python",
     "metadata": {},
     "outputs": [
      {
       "output_type": "stream",
       "stream": "stdout",
       "text": [
        "Help on function add2 in module __main__:\n",
        "\n",
        "add2(x)\n",
        "    I was here! :)\n",
        "\n"
       ]
      }
     ],
     "prompt_number": 30
    },
    {
     "cell_type": "code",
     "collapsed": false,
     "input": [
      "@turist\n",
      "def add3(x):                  #\u0424\u0443\u043d\u043a\u0446\u0438\u044f \u0441 \u0443\u0436\u0435 \u0438\u043c\u0435\u044e\u0449\u0435\u0439\u0441\u044f \u0432 \u0434\u043e\u043a\u0441\u0442\u0440\u0438\u043d\u0433\u0435 \u0438\u043d\u0444\u043e\u0440\u043c\u0430\u0446\u0438\u0435\u0439\n",
      "    \"\"\"This function adds 3 to our argument\n",
      "    \"\"\"\n",
      "    return x + 3\n",
      "\n",
      "help(add3)"
     ],
     "language": "python",
     "metadata": {},
     "outputs": [
      {
       "output_type": "stream",
       "stream": "stdout",
       "text": [
        "Help on function add3 in module __main__:\n",
        "\n",
        "add3(x)\n",
        "    This function adds 3 to our argument\n",
        "       \n",
        "    I was here! :)\n",
        "\n"
       ]
      }
     ],
     "prompt_number": 31
    },
    {
     "cell_type": "heading",
     "level": 2,
     "metadata": {},
     "source": [
      "\u0417\u0430\u0434\u0430\u043d\u0438\u0435 \u21162"
     ]
    },
    {
     "cell_type": "raw",
     "metadata": {},
     "source": [
      "\u041d\u0430\u043f\u0438\u0441\u0430\u0442\u044c \u0434\u0435\u043a\u043e\u0440\u0430\u0442\u043e\u0440 \u043a\u043e\u0442\u043e\u0440\u044b\u0439 c\u0447\u0438\u0442\u0430\u0435\u0442 \u0432\u0440\u0435\u043c\u044f \u0432\u044b\u043f\u043e\u043b\u043d\u0435\u043d\u0438\u044f \u0444\u0443\u043d\u043a\u0446\u0438\u0438."
     ]
    },
    {
     "cell_type": "code",
     "collapsed": false,
     "input": [
      "import time\n",
      "\n",
      "def timer(test_fnc):\n",
      "\tdef test(*arg):\n",
      "\t    t1 = time.clock()\n",
      "\t    result = test_fnc(*arg)\n",
      "\t    t2 = time.clock()\n",
      "\t    print \"\u0412\u0440\u0435\u043c\u044f \u0432\u044b\u043f\u043e\u043b\u043d\u0435\u043d\u0438\u044f \u0444\u0443\u043d\u043a\u0446\u0438\u0438: %f\" % (t2 - t1)\n",
      "\t    return result\n",
      "\treturn test\n",
      "\n",
      "@timer\n",
      "def hard_square(n):\n",
      "    return ((n ** 2) ** 2) ** 2\n",
      "\n",
      "hard_square(12.345)"
     ],
     "language": "python",
     "metadata": {},
     "outputs": [
      {
       "output_type": "stream",
       "stream": "stdout",
       "text": [
        "\u0412\u0440\u0435\u043c\u044f \u0432\u044b\u043f\u043e\u043b\u043d\u0435\u043d\u0438\u044f \u0444\u0443\u043d\u043a\u0446\u0438\u0438: 0.000008\n"
       ]
      },
      {
       "metadata": {},
       "output_type": "pyout",
       "prompt_number": 32,
       "text": [
        "539422123.2473601"
       ]
      }
     ],
     "prompt_number": 32
    },
    {
     "cell_type": "heading",
     "level": 2,
     "metadata": {},
     "source": [
      "\u0417\u0430\u0434\u0430\u043d\u0438\u0435 \u21163"
     ]
    },
    {
     "cell_type": "raw",
     "metadata": {},
     "source": [
      "\u041d\u0430\u043f\u0438\u0441\u0430\u0442\u044c \u0434\u0432\u0430 \u0434\u0435\u043a\u043e\u0440\u0430\u0442\u043e\u0440\u0430:\n",
      "\n",
      " @accepts(int,float) - \u043f\u0440\u0438\u043d\u0438\u043c\u0430\u0435\u0442 \u043d\u0430\u0431\u043e\u0440 \u0442\u0438\u043f\u043e\u0432 \u0438 \u043f\u0440\u043e\u0432\u0435\u0440\u044f\u0435\u0442, \u0447\u0442\u043e \u0432\u0445\u043e\u0434\u043d\u044b\u0435 \u043f\u0430\u0440\u0430\u043c\u0435\u0442\u0440\u044b \u0434\u0435\u043a\u043e\u0440\u0438\u0440\u0443\u0435\u043c\u043e\u0439 \u0444\u0443\u043d\u043a\u0446\u0438\u0438 \u0441\u043e\u043e\u0442\u0432\u0435\u0442\u0441\u0442\u0432\u0443\u044e\u0442 \u044d\u0442\u0438\u043c \u0442\u0438\u043f\u0430\u043c.\n",
      " @returns(int,float) - \u043f\u0440\u0438\u043d\u0438\u043c\u0430\u0435\u0442 \u043d\u0430\u0431\u043e\u0440 \u0442\u0438\u043f\u043e\u0432 \u0438 \u043f\u0440\u043e\u0432\u0435\u0440\u044f\u0435\u0442, \u0447\u0442\u043e \u0440\u0435\u0437\u0443\u043b\u044c\u0442\u0430\u0442 \u0440\u0430\u0431\u043e\u0442\u044b \u0444\u0443\u043d\u043a\u0446\u0438\u0438 \u0441\u043e\u043e\u0442\u0432\u0435\u0442\u0441\u0442\u0432\u0443\u0435\u0442 \u044d\u0442\u0438\u043c \u0442\u0438\u043f\u0430\u043c.\n"
     ]
    },
    {
     "cell_type": "code",
     "collapsed": false,
     "input": [
      "def accepts(*types):\n",
      "    def into_accepts(test_func):\n",
      "        def test(*args):\n",
      "            for i in args:\n",
      "                if isinstance(i, types):\n",
      "                    print \"\u0410\u0440\u0433\u0443\u043c\u0435\u043d\u0442 %s \u043f\u0440\u0438\u043d\u0430\u0434\u043b\u0435\u0436\u0438\u0442 \u043d\u0430\u0431\u043e\u0440\u0443 \u0442\u0438\u043f\u043e\u0432 %s\" % (str(i), types)\n",
      "                else:\n",
      "                    print \"\u0410\u0440\u0433\u0443\u043c\u0435\u043d\u0442 %s \u043d\u0435 \u043f\u0440\u0438\u043d\u0430\u0434\u043b\u0435\u0436\u0438\u0442 \u043d\u0430\u0431\u043e\u0440\u0443 \u0442\u0438\u043f\u043e\u0432 %s\" % (str(i), types)\n",
      "            return test_func(*args)\n",
      "        return test\n",
      "    return into_accepts\n",
      "\n",
      "@accepts(int, float)\n",
      "def return_too(a):\n",
      "    return a\n",
      "\n",
      "return_too(3)"
     ],
     "language": "python",
     "metadata": {},
     "outputs": [
      {
       "output_type": "stream",
       "stream": "stdout",
       "text": [
        "\u0410\u0440\u0433\u0443\u043c\u0435\u043d\u0442 3 \u043f\u0440\u0438\u043d\u0430\u0434\u043b\u0435\u0436\u0438\u0442 \u043d\u0430\u0431\u043e\u0440\u0443 \u0442\u0438\u043f\u043e\u0432 (<type 'int'>, <type 'float'>)\n"
       ]
      },
      {
       "metadata": {},
       "output_type": "pyout",
       "prompt_number": 33,
       "text": [
        "3"
       ]
      }
     ],
     "prompt_number": 33
    },
    {
     "cell_type": "code",
     "collapsed": false,
     "input": [
      "return_too(1.34)"
     ],
     "language": "python",
     "metadata": {},
     "outputs": [
      {
       "output_type": "stream",
       "stream": "stdout",
       "text": [
        "\u0410\u0440\u0433\u0443\u043c\u0435\u043d\u0442 1.34 \u043f\u0440\u0438\u043d\u0430\u0434\u043b\u0435\u0436\u0438\u0442 \u043d\u0430\u0431\u043e\u0440\u0443 \u0442\u0438\u043f\u043e\u0432 (<type 'int'>, <type 'float'>)\n"
       ]
      },
      {
       "metadata": {},
       "output_type": "pyout",
       "prompt_number": 34,
       "text": [
        "1.34"
       ]
      }
     ],
     "prompt_number": 34
    },
    {
     "cell_type": "code",
     "collapsed": false,
     "input": [
      "return_too(\"a\")"
     ],
     "language": "python",
     "metadata": {},
     "outputs": [
      {
       "output_type": "stream",
       "stream": "stdout",
       "text": [
        "\u0410\u0440\u0433\u0443\u043c\u0435\u043d\u0442 a \u043d\u0435 \u043f\u0440\u0438\u043d\u0430\u0434\u043b\u0435\u0436\u0438\u0442 \u043d\u0430\u0431\u043e\u0440\u0443 \u0442\u0438\u043f\u043e\u0432 (<type 'int'>, <type 'float'>)\n"
       ]
      },
      {
       "metadata": {},
       "output_type": "pyout",
       "prompt_number": 35,
       "text": [
        "'a'"
       ]
      }
     ],
     "prompt_number": 35
    },
    {
     "cell_type": "code",
     "collapsed": false,
     "input": [
      "def accepts(*types):\n",
      "    def into_accepts(test_func):\n",
      "        def test(*args):\n",
      "            res = test_func(*args)\n",
      "            if isinstance(res, types):\n",
      "                print \"\u0420\u0435\u0437\u0443\u043b\u044c\u0442\u0430\u0442 \u0444\u0443\u043d\u043a\u0446\u0438\u0438 %s \u043f\u0440\u0438\u043d\u0430\u0434\u043b\u0435\u0436\u0438\u0442 \u043f\u0435\u0440\u0435\u0434\u0430\u043d\u043d\u043e\u043c\u0443 \u043d\u0430\u0431\u043e\u0440\u0443 \u0442\u0438\u043f\u043e\u0432 %s\" % (str(res), types)\n",
      "            else:\n",
      "                print \"\u0420\u0435\u0437\u0443\u043b\u044c\u0442\u0430\u0442 \u0444\u0443\u043d\u043a\u0446\u0438\u0438 %s \u043d\u0435 \u043f\u0440\u0438\u043d\u0430\u0434\u043b\u0435\u0436\u0438\u0442 \u043f\u0435\u0440\u0435\u0434\u0430\u043d\u043d\u043e\u043c\u0443 \u043d\u0430\u0431\u043e\u0440\u0443 \u0442\u0438\u043f\u043e\u0432 %s\" % (str(res), types)\n",
      "            return res\n",
      "        return test\n",
      "    return into_accepts\n",
      "\n",
      "@accepts(int, float)\n",
      "def summ(a, b):\n",
      "    return a + b\n",
      "\n",
      "summ(1, 4)"
     ],
     "language": "python",
     "metadata": {},
     "outputs": [
      {
       "output_type": "stream",
       "stream": "stdout",
       "text": [
        "\u0420\u0435\u0437\u0443\u043b\u044c\u0442\u0430\u0442 \u0444\u0443\u043d\u043a\u0446\u0438\u0438 5 \u043f\u0440\u0438\u043d\u0430\u0434\u043b\u0435\u0436\u0438\u0442 \u043f\u0435\u0440\u0435\u0434\u0430\u043d\u043d\u043e\u043c\u0443 \u043d\u0430\u0431\u043e\u0440\u0443 \u0442\u0438\u043f\u043e\u0432 (<type 'int'>, <type 'float'>)\n"
       ]
      },
      {
       "metadata": {},
       "output_type": "pyout",
       "prompt_number": 36,
       "text": [
        "5"
       ]
      }
     ],
     "prompt_number": 36
    },
    {
     "cell_type": "code",
     "collapsed": false,
     "input": [
      "summ(1, 3.41)"
     ],
     "language": "python",
     "metadata": {},
     "outputs": [
      {
       "output_type": "stream",
       "stream": "stdout",
       "text": [
        "\u0420\u0435\u0437\u0443\u043b\u044c\u0442\u0430\u0442 \u0444\u0443\u043d\u043a\u0446\u0438\u0438 4.41 \u043f\u0440\u0438\u043d\u0430\u0434\u043b\u0435\u0436\u0438\u0442 \u043f\u0435\u0440\u0435\u0434\u0430\u043d\u043d\u043e\u043c\u0443 \u043d\u0430\u0431\u043e\u0440\u0443 \u0442\u0438\u043f\u043e\u0432 (<type 'int'>, <type 'float'>)\n"
       ]
      },
      {
       "metadata": {},
       "output_type": "pyout",
       "prompt_number": 37,
       "text": [
        "4.41"
       ]
      }
     ],
     "prompt_number": 37
    },
    {
     "cell_type": "code",
     "collapsed": false,
     "input": [
      "summ(\"Hello,\", \"world!\")"
     ],
     "language": "python",
     "metadata": {},
     "outputs": [
      {
       "output_type": "stream",
       "stream": "stdout",
       "text": [
        "\u0420\u0435\u0437\u0443\u043b\u044c\u0442\u0430\u0442 \u0444\u0443\u043d\u043a\u0446\u0438\u0438 Hello,world! \u043d\u0435 \u043f\u0440\u0438\u043d\u0430\u0434\u043b\u0435\u0436\u0438\u0442 \u043f\u0435\u0440\u0435\u0434\u0430\u043d\u043d\u043e\u043c\u0443 \u043d\u0430\u0431\u043e\u0440\u0443 \u0442\u0438\u043f\u043e\u0432 (<type 'int'>, <type 'float'>)\n"
       ]
      },
      {
       "metadata": {},
       "output_type": "pyout",
       "prompt_number": 38,
       "text": [
        "'Hello,world!'"
       ]
      }
     ],
     "prompt_number": 38
    }
   ],
   "metadata": {}
  }
 ]
}