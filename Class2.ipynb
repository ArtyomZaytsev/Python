{
 "metadata": {
  "name": ""
 },
 "nbformat": 3,
 "nbformat_minor": 0,
 "worksheets": [
  {
   "cells": [
    {
     "cell_type": "heading",
     "level": 4,
     "metadata": {},
     "source": [
      "\u0417\u0430\u0439\u0446\u0435\u0432 \u0410\u0440\u0442\u0435\u043c (\u0441\u0442\u0430\u0436\u0435\u0440)"
     ]
    },
    {
     "cell_type": "heading",
     "level": 2,
     "metadata": {},
     "source": [
      "\u0417\u0430\u0434\u0430\u043d\u0438\u0435 \u21163"
     ]
    },
    {
     "cell_type": "raw",
     "metadata": {},
     "source": [
      "\u041f\u0443\u043d\u043a\u0442 2 \u0441 \u0443\u0441\u043b\u043e\u0436\u043d\u0435\u043d\u0438\u0435\u043c: \u043d\u0430\u043f\u0438\u0441\u0430\u0442\u044c \u0440\u043e\u0434\u0438\u0442\u0435\u043b\u044c\u0441\u043a\u0438\u0439 \u043a\u043b\u0430\u0441\u0441 XDictAttr \u0442\u0430\u043a, \u0447\u0442\u043e\u0431\u044b \u0443 \u043d\u0430\u0441\u043b\u0435\u0434\u043d\u0438\u043a\u0430 \u0434\u0438\u043d\u0430\u043c\u0438\u0447\u0435\u0441\u043a\u0438 \u043e\u043f\u0440\u0435\u0434\u0435\u043b\u044f\u043b\u0441\u044f \u043a\u043b\u044e\u0447 \u043f\u043e \u043d\u0430\u043b\u0438\u0447\u0438\u044e \u043c\u0435\u0442\u043e\u0434\u0430 get_<KEY>"
     ]
    },
    {
     "cell_type": "code",
     "collapsed": false,
     "input": [
      "class XDictAttr:\n",
      "\tdef __init__(self, args):\n",
      "\t\tself.__dict__.update(dict(args))\n",
      "\tdef __str__(self):\n",
      "\t\treturn str(self.__dict__)\n",
      "\tdef __getitem__(self, key):\n",
      "\t\tif key in [x for x in self.__dict__.keys()]:\n",
      "\t\t\treturn self.__dict__[key]\n",
      "\t\telse:\n",
      "\t\t\treturn [(eval(compile(x, '<string>', 'eval'), self.__class__.__dict__)).__call__(self) \\\n",
      "                    for x in self.__class__.__dict__.keys() \\\n",
      "                    if x.startswith(\"get_\" + key)][0]\n",
      "\tdef __getattr__(self, arg):\n",
      "\t\treturn [item.__call__(self) for item in \\\n",
      "                [eval(compile(x, '<string>', 'eval'), self.__class__.__dict__) \\\n",
      "                 for x in self.__class__.__dict__.keys() \\\n",
      "                 if x.startswith(\"get_\")] \\\n",
      "                if arg == item.__name__[4:]][0]\n",
      "\tdef get(self, key, mes=None):\n",
      "\t\ttry:\n",
      "\t\t\tif key in [x for x in self.__dict__.keys()]:\n",
      "\t\t\t\treturn self.__dict__[key]\n",
      "\t\t\telse:\n",
      "\t\t\t\treturn [(eval(compile(x, '<string>', 'eval'), self.__class__.__dict__)).__call__(self) \\\n",
      "                        for x in self.__class__.__dict__.keys() \\\n",
      "                        if x.startswith(\"get_\" + key)][0]\n",
      "\t\texcept Exception:\n",
      "\t\t\treturn mes\n",
      "        \n",
      "class Child(XDictAttr):\n",
      "    def get_cat(self):\n",
      "        return '\u041c\u044f\u0443'\n",
      "    def get_dog(self):\n",
      "        return '\u0413\u0430\u0432'\n",
      "    def get_pig(self):\n",
      "        return '\u0425\u0440\u044e'\n",
      "    \n",
      "test = Child({'one' : 1, 'two' : 2, 'three' : 3})\n",
      "\n",
      "print test\n",
      "print test.one\n",
      "print test['two']\n",
      "print test.get('three')\n",
      "print test.cat\n",
      "print test['dog']\n",
      "print test.get('pig')\n",
      "print test.get('cat', 'missing')\n",
      "print test.get('cow', 'missing')\n",
      "\n",
      "import unittest\n",
      "class Tests(unittest.TestCase):\n",
      "    def test_XDictAttr(self):\n",
      "        class Child(XDictAttr):\n",
      "            def get_cat(self):\n",
      "                return '\u041c\u044f\u0443'\n",
      "            def get_dog(self):\n",
      "                return '\u0413\u0430\u0432'\n",
      "            def get_pig(self):\n",
      "                return '\u0425\u0440\u044e'\n",
      "        test = Child({'one' : 1, 'two' : 2, 'three' : 3})\n",
      "        self.assertEqual(str(test), \"{'three': 3, 'two': 2, 'one': 1}\")\n",
      "        self.assertEqual(test.one, 1)\n",
      "        self.assertEqual(test['two'], 2)\n",
      "        self.assertEqual(test.get('three'), 3)\n",
      "        self.assertEqual(test.get('four', 'missing'), 'missing')\n",
      "        self.assertEqual(test.cat, '\u041c\u044f\u0443')\n",
      "        self.assertEqual(test['dog'], '\u0413\u0430\u0432')\n",
      "        self.assertEqual(test.get('pig'), '\u0425\u0440\u044e')\n",
      "        self.assertIsInstance(test, Child)\n",
      "        self.assertRaises(IndexError, getattr, test, 'cow')\n",
      "suite = unittest.TestLoader().loadTestsFromTestCase(Tests)\n",
      "unittest.TextTestRunner().run(suite)            "
     ],
     "language": "python",
     "metadata": {},
     "outputs": [
      {
       "output_type": "stream",
       "stream": "stderr",
       "text": [
        "."
       ]
      },
      {
       "output_type": "stream",
       "stream": "stdout",
       "text": [
        "{'three': 3, 'two': 2, 'one': 1}\n",
        "1\n",
        "2\n",
        "3\n",
        "\u041c\u044f\u0443\n",
        "\u0413\u0430\u0432\n",
        "\u0425\u0440\u044e\n",
        "\u041c\u044f\u0443\n",
        "missing\n"
       ]
      },
      {
       "output_type": "stream",
       "stream": "stderr",
       "text": [
        "\n",
        "----------------------------------------------------------------------\n",
        "Ran 1 test in 0.001s\n",
        "\n",
        "OK\n"
       ]
      },
      {
       "metadata": {},
       "output_type": "pyout",
       "prompt_number": 75,
       "text": [
        "<unittest.runner.TextTestResult run=1 errors=0 failures=0>"
       ]
      }
     ],
     "prompt_number": 75
    },
    {
     "cell_type": "heading",
     "level": 2,
     "metadata": {},
     "source": [
      "\u0417\u0430\u0434\u0430\u043d\u0438\u0435 \u21164"
     ]
    },
    {
     "cell_type": "raw",
     "metadata": {},
     "source": [
      "\u041d\u0430\u043f\u0438\u0441\u0430\u0442\u044c \u043a\u043b\u0430\u0441\u0441, \u043a\u043e\u0442\u043e\u0440\u044b\u0439 \u0440\u0435\u0433\u0438\u0441\u0442\u0440\u0438\u0440\u0443\u0435\u0442 \u0441\u0432\u043e\u0438 \u044d\u043a\u0437\u0435\u043c\u043f\u043b\u044f\u0440\u044b \u0438 \u043f\u0440\u0435\u0434\u043e\u0441\u0442\u0430\u0432\u043b\u044f\u0435\u0442 \u0438\u043d\u0442\u0435\u0440\u0444\u0435\u0439\u0441 \u0438\u0442\u0435\u0440\u0430\u0442\u043e\u0440\u0430 \u043f\u043e \u043d\u0438\u043c"
     ]
    },
    {
     "cell_type": "code",
     "collapsed": false,
     "input": [
      "class ItReg(type):\n",
      "\tdef __iter__(reg):\n",
      "\t\treturn iter(reg.instance)\n",
      "    \n",
      "class Reg(object):\n",
      "\tinstance = []\n",
      "\t__metaclass__ = ItReg\n",
      "\tdef __init__(self):\n",
      "\t\tself.instance.append(self)\n",
      "        \n",
      "a = Reg()\n",
      "print a\n",
      "b = Reg()\n",
      "print b\n",
      "c = Reg()\n",
      "print c\n",
      "print \"\\n\"\n",
      "\n",
      "for instance in Reg:\n",
      "    print instance\n",
      "    \n",
      "import unittest\n",
      "class Tests(unittest.TestCase):\n",
      "    def test_Reg(self):\n",
      "        one = Reg()\n",
      "        two = Reg()\n",
      "        three = Reg()\n",
      "        four = Reg()\n",
      "        self.assertIn(one, Reg.instance)\n",
      "        self.assertIn(four, Reg.instance)\n",
      "        self.assertIsInstance(two, Reg)\n",
      "        self.assertTrue(three in Reg.instance)\n",
      "suite = unittest.TestLoader().loadTestsFromTestCase(Tests)\n",
      "unittest.TextTestRunner().run(suite) "
     ],
     "language": "python",
     "metadata": {},
     "outputs": [
      {
       "output_type": "stream",
       "stream": "stderr",
       "text": [
        "."
       ]
      },
      {
       "output_type": "stream",
       "stream": "stdout",
       "text": [
        "<__main__.Reg object at 0x7f917898b9d0>\n",
        "<__main__.Reg object at 0x7f91788f4dd0>\n",
        "<__main__.Reg object at 0x7f91788f4a90>\n",
        "\n",
        "\n",
        "<__main__.Reg object at 0x7f917898b9d0>\n",
        "<__main__.Reg object at 0x7f91788f4dd0>\n",
        "<__main__.Reg object at 0x7f91788f4a90>\n"
       ]
      },
      {
       "output_type": "stream",
       "stream": "stderr",
       "text": [
        "\n",
        "----------------------------------------------------------------------\n",
        "Ran 1 test in 0.001s\n",
        "\n",
        "OK\n"
       ]
      },
      {
       "metadata": {},
       "output_type": "pyout",
       "prompt_number": 96,
       "text": [
        "<unittest.runner.TextTestResult run=1 errors=0 failures=0>"
       ]
      }
     ],
     "prompt_number": 96
    },
    {
     "cell_type": "heading",
     "level": 2,
     "metadata": {},
     "source": [
      "\u0417\u0430\u0434\u0430\u043d\u0438\u0435 \u21165"
     ]
    },
    {
     "cell_type": "raw",
     "metadata": {},
     "source": [
      "\u0420\u0435\u0430\u043b\u0438\u0437\u043e\u0432\u0430\u0442\u044c \u0434\u0432\u043e\u0438\u0447\u043d\u043e\u0435 \u0434\u0435\u0440\u0435\u0432\u043e \u043f\u043e\u0438\u0441\u043a\u0430, \u0430 \u0442\u0430\u043a\u0436\u0435 \u043c\u0435\u0442\u043e\u0434\u044b \u0434\u043e\u0431\u043e\u0432\u043b\u0435\u043d\u0438\u044f, \u0443\u0434\u0430\u043b\u0435\u043d\u0438\u044f \u0438 \u043f\u043e\u0438\u0441\u043a\u0430 \u043d\u043e\u0434\u044b."
     ]
    },
    {
     "cell_type": "code",
     "collapsed": false,
     "input": [
      "class Nodes:\n",
      "\tdef __init__(self, key, value, parent=None, l_child=None, r_child=None):\n",
      "\t\tself.key = key\n",
      "\t\tself.value = value\n",
      "\t\tself.parent = parent\n",
      "\t\tself.l_child = l_child\n",
      "\t\tself.r_child = r_child\n",
      "\tdef is_it_root(self):\n",
      "\t\tif self.parent:\n",
      "\t\t\treturn False\n",
      "\t\telse:\n",
      "\t\t\treturn True\n",
      "\tdef have_l_child(self):\n",
      "\t\tif self.l_child:\n",
      "\t\t\treturn True\n",
      "\t\telse:\n",
      "\t\t\treturn False\n",
      "\tdef have_r_child(self):\n",
      "\t\tif self.r_child:\n",
      "\t\t\treturn True\n",
      "\t\telse:\n",
      "\t\t\treturn False\n",
      "        \n",
      "class BinTree:\n",
      "\tdef __init__(self, root=None):\n",
      "\t\tself.root = root\n",
      "\t\tself.size = 0\n",
      "\tdef __setitem__(self, key, value):\n",
      "\t\tself.add_node(key, value)\n",
      "\n",
      "\tdef __getitem__(self, key):\n",
      "\t\treturn self.find(key)\n",
      "\tdef add_node(self, key, value):\n",
      "\t\tif not self.root:\n",
      "\t\t\tself.root = Nodes(key, value)\n",
      "\t\t\tself.size +=1\n",
      "\t\telse:\n",
      "\t\t\tself.add_support(key, value, self.root)\n",
      "\n",
      "\tdef add_support(self, key, value, position_now):\n",
      "\t\tif key < position_now.key:\n",
      "\t\t\tif position_now.have_l_child():\n",
      "\t\t\t\tself.add_support(key, value, position_now.l_child)\n",
      "\t\t\telse:\n",
      "\t\t\t\tposition_now.l_child = Nodes(key, value, position_now)\n",
      "\t\t\t\tself.size +=1\n",
      "\t\telif key > position_now.key:\n",
      "\t\t\tif position_now.have_r_child():\n",
      "\t\t\t\tself.add_support(key, value, position_now.r_child)\n",
      "\t\t\telse:\n",
      "\t\t\t\tposition_now.r_child = Nodes(key, value, position_now)\n",
      "\t\t\t\tself.size +=1\n",
      "\t\telse:\n",
      "\t\t\tposition_now.value = value\n",
      "\n",
      "\tdef find(self, key):\n",
      "\t\tif self.size == 0:\n",
      "\t\t\tprint \"Tree is empty\"\n",
      "\t\telse:\n",
      "\t\t\twanted_node = self.find_support(key, self.root)\n",
      "\t\t\treturn wanted_node\n",
      "\n",
      "\tdef find_support(self, key, position_now):\n",
      "\t\tif key < position_now.key:\n",
      "\t\t\tif position_now.have_l_child():\n",
      "\t\t\t\treturn self.find_support(key, position_now.l_child)\n",
      "\t\t\telse:\n",
      "\t\t\t\tprint \"Key not found\"\n",
      "\t\telif key > position_now.key:\n",
      "\t\t\tif position_now.have_r_child():\n",
      "\t\t\t\treturn self.find_support(key, position_now.r_child)\n",
      "\t\t\telse:\n",
      "\t\t\t\tprint \"Key not found\"\n",
      "\t\telse:\n",
      "\t\t\tif key == position_now.key:\n",
      "\t\t\t\treturn position_now\n",
      "\t\t\telse:\n",
      "\t\t\t\tprint \"Key not found\"\n",
      "\n",
      "\tdef kick(self, key):\n",
      "\t\tif self.size == 0:\n",
      "\t\t\treturn \"Tree is empty\"\n",
      "\t\telse:\n",
      "\t\t\tposition_now = self.find(key)\n",
      "\t\t\tif not (position_now.l_child or position_now.r_child):\n",
      "\t\t\t\tself.no_child_kick(position_now)\n",
      "\t\t\t\tself.size -= 1\n",
      "\t\t\telif not (position_now.l_child and position_now.r_child):\n",
      "\t\t\t\tself.one_child_kick(position_now)\n",
      "\t\t\t\tself.size -= 1\n",
      "\t\t\telse:\n",
      "\t\t\t\tself.two_child_kick(position_now)\n",
      "\t\t\t\tself.size -= 1\n",
      "\n",
      "\tdef no_child_kick(self, position_now):\n",
      "\t\tif position_now == position_now.parent.l_child:\n",
      "\t\t\tposition_now.parent.l_child = None\n",
      "\t\telse:\n",
      "\t\t\tposition_now.parent.r_child = None\n",
      "\n",
      "\tdef one_child_kick(self, position_now):\n",
      "\t\tif position_now.is_it_root():\n",
      "\t\t\tif position_now.have_l_child():\n",
      "\t\t\t\tposition_now.l_child.parent = None\n",
      "\t\t\t\tself.root = position_now.l_child\n",
      "\t\t\t\tdel position_now\n",
      "\t\t\telse:\n",
      "\t\t\t\tposition_now.r_child.parent = None\n",
      "\t\t\t\tself.root = position_now.r_child\n",
      "\t\t\t\tdel position_now\n",
      "\t\telse:\n",
      "\t\t\tif position_now.have_l_child():\n",
      "\t\t\t\tif position_now == position_now.parent.l_child:\n",
      "\t\t\t\t\tposition_now.l_child.parent = position_now.parent\n",
      "\t\t\t\t\tposition_now.parent.l_child = position_now.l_child\n",
      "\t\t\t\t\tdel position_now\n",
      "\t\t\t\telse:\n",
      "\t\t\t\t\tposition_now.l_child.parent = position_now.parent\n",
      "\t\t\t\t\tposition_now.parent.r_child = position_now.l_child\n",
      "\t\t\t\t\tdel position_now\n",
      "\t\t\telse:\n",
      "\t\t\t\tif position_now == position_now.parent.l_child:\n",
      "\t\t\t\t\tposition_now.r_child.parent = position_now.parent\n",
      "\t\t\t\t\tposition_now.parent.l_child = position_now.r_child\n",
      "\t\t\t\t\tdel position_now\n",
      "\t\t\t\telse:\n",
      "\t\t\t\t\tposition_now.r_child.parent = position_now.parent\n",
      "\t\t\t\t\tposition_now.parent.r_child = position_now.r_child\n",
      "\t\t\t\t\tdel position_now\n",
      "\n",
      "\tdef two_child_kick(self, position_now):\n",
      "\t\tif not position_now.r_child.l_child:\n",
      "\t\t\tif position_now.is_it_root():\n",
      "\t\t\t\tself.root == position_now.r_child\n",
      "\t\t\t\tposition_now.r_child.parent = None\n",
      "\t\t\t\tif position_now.have_l_child():\n",
      "\t\t\t\t\tposition_now.l_child.parent = position_now.r_child\n",
      "\t\t\t\t\tposition_now.r_child.l_child = position_now.l_child\n",
      "\t\t\t\tdel position_now\n",
      "\t\t\telif position_now == position_now.parent.l_child:\n",
      "\t\t\t\tposition_now.r_child.parent = position_now.parent\n",
      "\t\t\t\tposition_now.parent.l_child = position_now.r_child\n",
      "\t\t\t\tdel position_now\n",
      "\t\t\telse:\n",
      "\t\t\t\tposition_now.r_child.parent = position_now.parent\n",
      "\t\t\t\tposition_now.parent.r_child = position_now.r_child\n",
      "\t\t\t\tdel position_now\n",
      "\n",
      "\t\telse:\n",
      "\t\t\twanted_root = self.find_last_l_child(position_now.r_child)\n",
      "\t\t\tposition_now.key = wanted_root.key\n",
      "\t\t\tposition_now.value = wanted_root.value\n",
      "\t\t\tif wanted_root.have_r_child():\n",
      "\t\t\t\tself.one_child_kick(wanted_root)\n",
      "\t\t\telse:\n",
      "\t\t\t\tself.no_child_kick(wanted_root)\n",
      "\n",
      "\tdef find_last_l_child(self, position_now):\n",
      "\t\tif position_now.l_child.have_l_child():\n",
      "\t\t\tself.find_last_l_child(position_now.l_child)\n",
      "\t\telse:\n",
      "\t\t\treturn position_now.l_child\n",
      "        \n",
      "test = BinTree()\n",
      "test[7] = 7\n",
      "test[1] = 1\n",
      "test[5] = 5\n",
      "test[4] = 4\n",
      "test[2] = 2\n",
      "test[3] = 3\n",
      "print test[7].value\n",
      "print test[4].value\n",
      "print test[2].value\n",
      "test[4] = 35\n",
      "print test[4].value\n",
      "test.kick(2)\n",
      "print test[2]\n",
      "\n",
      "\n",
      "import unittest, sys\n",
      "class Tests(unittest.TestCase):\n",
      "            \n",
      "    def test_BinTree(self):\n",
      "        test = BinTree()\n",
      "        test[7] = 'seven'\n",
      "        test[1] = 'one'\n",
      "        test[5] = 'five'\n",
      "        test[4] = 'four'\n",
      "        test[6] = 'six'\n",
      "        test[2] = 'two'\n",
      "        test[3] = 'three'\n",
      "        self.assertEqual(test.root.value, 'seven')\n",
      "        self.assertRaises(AttributeError, getattr, test, \"no\")\n",
      "        self.assertEqual(test[1].parent, test.root)\n",
      "        self.assertEqual(test[1].r_child.value, 'five')\n",
      "        test.kick(5)\n",
      "        self.assertEqual(test[1].r_child.value, 'six')\n",
      "        self.assertEqual(test[5], None)\n",
      "        self.assertTrue(test[1].have_r_child())\n",
      "            \n",
      "suite = unittest.TestLoader().loadTestsFromTestCase(Tests)\n",
      "unittest.TextTestRunner(verbosity=1, stream=sys.stderr).run(suite)"
     ],
     "language": "python",
     "metadata": {},
     "outputs": [
      {
       "output_type": "stream",
       "stream": "stderr",
       "text": [
        "."
       ]
      },
      {
       "output_type": "stream",
       "stream": "stdout",
       "text": [
        "7\n",
        "4\n",
        "2\n",
        "35\n",
        "Key not found\n",
        "None\n",
        "Key not found\n"
       ]
      },
      {
       "output_type": "stream",
       "stream": "stderr",
       "text": [
        "\n",
        "----------------------------------------------------------------------\n",
        "Ran 1 test in 0.001s\n",
        "\n",
        "OK\n"
       ]
      },
      {
       "metadata": {},
       "output_type": "pyout",
       "prompt_number": 130,
       "text": [
        "<unittest.runner.TextTestResult run=1 errors=0 failures=0>"
       ]
      }
     ],
     "prompt_number": 130
    }
   ],
   "metadata": {}
  }
 ]
}