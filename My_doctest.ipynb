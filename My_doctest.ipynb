{
 "metadata": {
  "name": ""
 },
 "nbformat": 3,
 "nbformat_minor": 0,
 "worksheets": [
  {
   "cells": [
    {
     "cell_type": "heading",
     "level": 4,
     "metadata": {},
     "source": [
      "\u0417\u0430\u0439\u0446\u0435\u0432 \u0410\u0440\u0442\u0435\u043c (\u0441\u0442\u0430\u0436\u0435\u0440)"
     ]
    },
    {
     "cell_type": "heading",
     "level": 2,
     "metadata": {},
     "source": [
      "\u041f\u043e\u043f\u044b\u0442\u043a\u0438 \u0441\u043e\u0437\u0434\u0430\u043d\u0438\u044f \u0441\u043e\u0431\u0441\u0442\u0432\u0435\u043d\u043d\u043e\u0433\u043e \u0430\u043d\u0430\u043b\u043e\u0433\u0430 \u0434\u043e\u043a\u0442\u0435\u0441\u0442\u0430"
     ]
    },
    {
     "cell_type": "raw",
     "metadata": {},
     "source": [
      "\u0424\u0443\u043d\u043a\u0446\u0438\u044e \u0434\u043b\u044f \u043f\u0440\u043e\u0432\u0435\u0440\u043a\u0438 \u0440\u0430\u0431\u043e\u0442\u044b \u0432\u0437\u044f\u043b \u0438\u0437 \u043f\u0440\u043e\u0448\u043b\u044b\u0445 \u0437\u0430\u0434\u0430\u043d\u0438\u0439. \u0421\u043b\u0443\u0447\u0430\u0439, \u043a\u043e\u0433\u0434\u0430 \u0432\u0441\u0435 \u0434\u043e\u043a\u0442\u0435\u0441\u0442\u044b \u0432\u0435\u0440\u043d\u044b:"
     ]
    },
    {
     "cell_type": "code",
     "collapsed": false,
     "input": [
      "def func(*num):\n",
      "    \"\"\"Function returns summ of int and float arguments\n",
      "    \n",
      "    >>> func(1, 4)\n",
      "    5\n",
      "    >>> func(1, [3, 4], (5, 7))\n",
      "    20\n",
      "    >>> func(\"a\", \"b\")\n",
      "    TypeError: unsupported operand type(s) for +=: 'int' and 'str'\n",
      "    >>> func(1.334, [3, 7])\n",
      "    11.334\n",
      "    \"\"\"\n",
      "    summ = 0\n",
      "    for nums in num:\n",
      "        if hasattr(nums, \"__len__\"):\n",
      "            for i in nums:\n",
      "                summ += i\n",
      "        else:\n",
      "            summ += nums\n",
      "    return summ\n",
      "\n",
      "\n",
      "def my_test(fun):\n",
      "    import traceback, sys, re\n",
      "    new_list = []\n",
      "    str_list = fun.__doc__.split(\"\\n\")\n",
      "    p = re.compile('[\\S]')\n",
      "    suc, unsuc = 0, 0\n",
      "    for string in str_list:\n",
      "        m = p.search(string)\n",
      "        if m is not None:\n",
      "            new_list.append(string.strip())\n",
      "    keys, values, real_values = [], [], []\n",
      "    for item in range(len(new_list)):\n",
      "        if (new_list[item][0] == '>')and(new_list[item+1][0]!='>'):\n",
      "            keys.append(new_list[item][3:len(new_list[item])].strip())\n",
      "            values.append(new_list[item+1])\n",
      "    for item in keys:\n",
      "\t    try:\n",
      "\t\t    real_values.append(eval(compile(item, 'proba.py', 'eval')))\n",
      "\t    except Exception:\n",
      "\t\t    tr = ''.join(traceback.format_exception(*sys.exc_info()))\n",
      "\t\t    if tr.find(values[len(real_values)]):\n",
      "\t\t\t    real_values.append(values[len(real_values)])\n",
      "    for i in range(len(real_values)):\n",
      "\t    if str(real_values[i]) == values[i]:\n",
      "\t\t    suc += 1\n",
      "\t    else:\n",
      "\t\t    unsuc += 1\n",
      "    if suc == len(values):\n",
      "\t    print \"\\nAll test OK!\"\n",
      "    else:\n",
      "\t    print \"%d test(s) - OK, %d test(s) - not OK\" % (suc, unsuc)\n",
      "        \n",
      "        \n",
      "my_test(func)"
     ],
     "language": "python",
     "metadata": {},
     "outputs": [
      {
       "output_type": "stream",
       "stream": "stdout",
       "text": [
        "\n",
        "All test OK!\n"
       ]
      }
     ],
     "prompt_number": 7
    },
    {
     "cell_type": "raw",
     "metadata": {},
     "source": [
      "\u0417\u0430\u043c\u0435\u043d\u0438\u043c \u0432 \u0434\u043e\u043a\u0441\u0442\u0440\u0438\u043d\u0433\u0435 \u043e\u0434\u043d\u043e \u0438\u0437 \u0437\u043d\u0430\u0447\u0435\u043d\u0438\u0439 \u043d\u0430 \u043d\u0435\u0432\u0435\u0440\u043d\u043e\u0435 (\u0432\u043e \u0432\u0442\u043e\u0440\u043e\u043c \u0442\u0435\u0441\u0442\u0435 20 \u0437\u0430\u043c\u0435\u043d\u0438\u043b \u043d\u0430 19) \u0438 \u043f\u0440\u043e\u0432\u0435\u0440\u0438\u043c \u0440\u0430\u0431\u043e\u0442\u0443:"
     ]
    },
    {
     "cell_type": "code",
     "collapsed": false,
     "input": [
      "def func(*num):\n",
      "    \"\"\"Function returns summ of int and float arguments\n",
      "    \n",
      "    >>> func(1, 4)\n",
      "    5\n",
      "    >>> func(1, [3, 4], (5, 7))\n",
      "    19\n",
      "    >>> func(\"a\", \"b\")\n",
      "    TypeError: unsupported operand type(s) for +=: 'int' and 'str'\n",
      "    >>> func(1.334, [3, 7])\n",
      "    11.334\n",
      "    \"\"\"\n",
      "    summ = 0\n",
      "    for nums in num:\n",
      "        if hasattr(nums, \"__len__\"):\n",
      "            for i in nums:\n",
      "                summ += i\n",
      "        else:\n",
      "            summ += nums\n",
      "    return summ\n",
      "\n",
      "\n",
      "def my_test(fun):\n",
      "    import traceback, sys, re\n",
      "    new_list = []\n",
      "    str_list = fun.__doc__.split(\"\\n\")\n",
      "    p = re.compile('[\\S]')\n",
      "    suc, unsuc = 0, 0\n",
      "    for string in str_list:\n",
      "        m = p.search(string)\n",
      "        if m is not None:\n",
      "            new_list.append(string.strip())\n",
      "    keys, values, real_values = [], [], []\n",
      "    for item in range(len(new_list)):\n",
      "        if (new_list[item][0] == '>')and(new_list[item+1][0]!='>'):\n",
      "            keys.append(new_list[item][3:len(new_list[item])].strip())\n",
      "            values.append(new_list[item+1])\n",
      "    for item in keys:\n",
      "\t    try:\n",
      "\t\t    real_values.append(eval(compile(item, 'proba.py', 'eval')))\n",
      "\t    except Exception:\n",
      "\t\t    tr = ''.join(traceback.format_exception(*sys.exc_info()))\n",
      "\t\t    if tr.find(values[len(real_values)]):\n",
      "\t\t\t    real_values.append(values[len(real_values)])\n",
      "    for i in range(len(real_values)):\n",
      "\t    if str(real_values[i]) == values[i]:\n",
      "\t\t    suc += 1\n",
      "\t    else:\n",
      "\t\t    unsuc += 1\n",
      "    if suc == len(values):\n",
      "\t    print \"\\nAll test OK!\"\n",
      "    else:\n",
      "\t    print \"%d test(s) - OK, %d test(s) - not OK\" % (suc, unsuc)\n",
      "        \n",
      "my_test(func)"
     ],
     "language": "python",
     "metadata": {},
     "outputs": [
      {
       "output_type": "stream",
       "stream": "stdout",
       "text": [
        "3 test(s) - OK, 1 test(s) - not OK\n"
       ]
      }
     ],
     "prompt_number": 6
    }
   ],
   "metadata": {}
  }
 ]
}